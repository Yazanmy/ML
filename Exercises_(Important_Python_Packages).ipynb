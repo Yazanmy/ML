{
  "nbformat": 4,
  "nbformat_minor": 0,
  "metadata": {
    "colab": {
      "name": "Exercises (Important Python Packages).ipynb",
      "version": "0.3.2",
      "provenance": [],
      "collapsed_sections": [],
      "include_colab_link": true
    },
    "kernelspec": {
      "name": "python3",
      "display_name": "Python 3"
    }
  },
  "cells": [
    {
      "cell_type": "markdown",
      "metadata": {
        "id": "view-in-github",
        "colab_type": "text"
      },
      "source": [
        "<a href=\"https://colab.research.google.com/github/Yazanmy/ML/blob/master/Exercises_(Important_Python_Packages).ipynb\" target=\"_parent\"><img src=\"https://colab.research.google.com/assets/colab-badge.svg\" alt=\"Open In Colab\"/></a>"
      ]
    },
    {
      "cell_type": "markdown",
      "metadata": {
        "id": "6-caHwZK_Cmi",
        "colab_type": "text"
      },
      "source": [
        "\n",
        "\n",
        "```\n",
        "Ex1: Create a program that asks the user to enter their\n",
        "name and their age. Print out a message addressed to them\n",
        "that tells them the year that they will turn 100 years old.\n",
        "```\n",
        "\n"
      ]
    },
    {
      "cell_type": "code",
      "metadata": {
        "id": "X6JRSLJPxk0j",
        "colab_type": "code",
        "colab": {
          "base_uri": "https://localhost:8080/",
          "height": 67
        },
        "outputId": "76572474-ccf7-4737-cbda-ab3c8ea4bd55"
      },
      "source": [
        "import datetime\n",
        "\n",
        "name = input(\"Your Name : \")\n",
        "age = int(input(\"Your age : \"))\n",
        "date = datetime.datetime.now()\n",
        "print (\"Hello \",name, \"in\"  , 100- age + int(date.year) )\n"
      ],
      "execution_count": 64,
      "outputs": [
        {
          "output_type": "stream",
          "text": [
            "Your Name : Yazan\n",
            "Your age : 21\n",
            "Hello  Yazan in 2098\n"
          ],
          "name": "stdout"
        }
      ]
    },
    {
      "cell_type": "markdown",
      "metadata": {
        "id": "WDEQv6uv_Lut",
        "colab_type": "text"
      },
      "source": [
        "```\n",
        "Ex3: Take a list, say for example this one: a = [1, 1, 2, 3, 5, 8,\n",
        "13, 21, 34, 55, 89] and write a program that prints out all\n",
        "the elements of the list that are less than 5.\n",
        "```\n"
      ]
    },
    {
      "cell_type": "code",
      "metadata": {
        "id": "XqXhajPXyijQ",
        "colab_type": "code",
        "colab": {
          "base_uri": "https://localhost:8080/",
          "height": 84
        },
        "outputId": "bdb50ab2-4056-4091-9084-71c5c61d1f93"
      },
      "source": [
        "a = [1, 1, 2, 3, 5, 8,13, 21, 34, 55, 89]\n",
        "for x in a :\n",
        "  if x<5 :\n",
        "    print (x)"
      ],
      "execution_count": 65,
      "outputs": [
        {
          "output_type": "stream",
          "text": [
            "1\n",
            "1\n",
            "2\n",
            "3\n"
          ],
          "name": "stdout"
        }
      ]
    },
    {
      "cell_type": "markdown",
      "metadata": {
        "id": "atlb9zSe_c2Q",
        "colab_type": "text"
      },
      "source": [
        "```\n",
        "Ex5: Take two lists, say for example these two: a = [1, 1, 2, 3,\n",
        "5, 8, 13, 21, 34, 55, 89] and b = [1, 2, 3, 4, 5, 6, 7, 8, 9, 10,\n",
        "11, 12, 13] and write a program that returns a list that\n",
        "contains only the elements that are common between the\n",
        "lists (without duplicates). Make sure your program works on\n",
        "two lists of different sizes.\n",
        "```\n"
      ]
    },
    {
      "cell_type": "code",
      "metadata": {
        "id": "I-R6Zsh53ZMJ",
        "colab_type": "code",
        "colab": {
          "base_uri": "https://localhost:8080/",
          "height": 50
        },
        "outputId": "a85a2fc2-c0ec-42f3-c173-2dc937eff315"
      },
      "source": [
        "a = [1, 1, 2, 3,5, 8, 13, 21, 34, 55, 89] \n",
        "b = [1, 2, 3, 4, 5, 6, 7, 8, 9, 10,11, 12, 13]\n",
        "print (set(a) &  set(b))\n",
        "\n",
        "both=[]\n",
        "\n",
        "if len(a)<len(b) :\n",
        "  for i in b :\n",
        "    if i in a and i not in both :\n",
        "      both.append(i)\n",
        "      \n",
        "if len(b)<len(a):\n",
        "  for i in a :\n",
        "    if i in b and i not in both :\n",
        "      both.append(i)\n",
        "\n",
        "print(both)      "
      ],
      "execution_count": 66,
      "outputs": [
        {
          "output_type": "stream",
          "text": [
            "{1, 2, 3, 5, 8, 13}\n",
            "[1, 2, 3, 5, 8, 13]\n"
          ],
          "name": "stdout"
        }
      ]
    },
    {
      "cell_type": "markdown",
      "metadata": {
        "id": "qFEE7wBR_jsP",
        "colab_type": "text"
      },
      "source": [
        "```\n",
        "Ex28: Implement a function that takes as input three\n",
        "variables, and returns the largest of the three. Do this\n",
        "without using the Python max() function!\n",
        "\n",
        "```\n"
      ]
    },
    {
      "cell_type": "code",
      "metadata": {
        "id": "Y0dlpjHc63t0",
        "colab_type": "code",
        "colab": {
          "base_uri": "https://localhost:8080/",
          "height": 34
        },
        "outputId": "43585698-3f09-418b-90eb-f3f24b1ae26e"
      },
      "source": [
        "def fun(a,b,c):\n",
        "  if a>b and a>c:\n",
        "    return(a)\n",
        "   \n",
        "  if b>a and b>c:\n",
        "    return(b)\n",
        "  \n",
        "  if c>a and c>b:\n",
        "    return c\n",
        "  \n",
        "print(fun(5,9,7))  "
      ],
      "execution_count": 67,
      "outputs": [
        {
          "output_type": "stream",
          "text": [
            "9\n"
          ],
          "name": "stdout"
        }
      ]
    },
    {
      "cell_type": "markdown",
      "metadata": {
        "id": "8yDTEvJgG4UO",
        "colab_type": "text"
      },
      "source": [
        "~~~\n",
        "Class 9: Write a Python class which has two\n",
        "methods get_String and print_String. get_String\n",
        "accept a string from the user and print_String print\n",
        "the string in upper case.\n",
        "~~~"
      ]
    },
    {
      "cell_type": "code",
      "metadata": {
        "id": "xCwwGXQu-3ps",
        "colab_type": "code",
        "colab": {
          "base_uri": "https://localhost:8080/",
          "height": 50
        },
        "outputId": "7d56a8d2-72cf-47b8-9ec3-fd1d2d82235d"
      },
      "source": [
        "class myclass():\n",
        "  def __init__(self):\n",
        "        self.Name = \"\"\n",
        "      \n",
        "  def  get_String(self):\n",
        "    self.Name =input()\n",
        "  \n",
        "  def print_String(self):\n",
        "    print(self.Name.upper())\n",
        "\n",
        "S= myclass()    \n",
        "S.get_String()\n",
        "S.print_String()\n"
      ],
      "execution_count": 89,
      "outputs": [
        {
          "output_type": "stream",
          "text": [
            "yt\n",
            "YT\n"
          ],
          "name": "stdout"
        }
      ]
    },
    {
      "cell_type": "markdown",
      "metadata": {
        "id": "apE-qXRcJwNz",
        "colab_type": "text"
      },
      "source": [
        "\n",
        "\n",
        "```\n",
        "Class 10: Write a Python class named Rectangle\n",
        "constructed by a length and width and a method\n",
        "which will compute the area of a rectangle\n",
        "```\n",
        "\n"
      ]
    },
    {
      "cell_type": "code",
      "metadata": {
        "id": "LwDeoiEaJvrW",
        "colab_type": "code",
        "colab": {
          "base_uri": "https://localhost:8080/",
          "height": 34
        },
        "outputId": "23231bc8-47d0-42e9-e6bb-e9ac3aadadcf"
      },
      "source": [
        "class Rectangle():\n",
        "\n",
        "  def __init__(self,length,width):\n",
        "      self.length=length\n",
        "      self.width=width\n",
        "     \n",
        "  def computeArea(self):\n",
        "     return self.length*self.width\n",
        "      \n",
        "\n",
        "Rectangle=Rectangle(5,10)\n",
        "print(Rectangle.computeArea())"
      ],
      "execution_count": 82,
      "outputs": [
        {
          "output_type": "stream",
          "text": [
            "50\n"
          ],
          "name": "stdout"
        }
      ]
    },
    {
      "cell_type": "markdown",
      "metadata": {
        "id": "nKE6bjJFLVaF",
        "colab_type": "text"
      },
      "source": [
        "~~~\n",
        "NumPy 3: Create a 3x3 matrix with values ranging from 2 to 10.\n",
        "~~~"
      ]
    },
    {
      "cell_type": "code",
      "metadata": {
        "id": "14PFBG3fLdte",
        "colab_type": "code",
        "colab": {
          "base_uri": "https://localhost:8080/",
          "height": 67
        },
        "outputId": "d72900ea-1565-43d7-c630-38104fd16b24"
      },
      "source": [
        "import numpy as np\n",
        "array=np.arange(2,11,1).reshape(3,3)\n",
        "print(array)"
      ],
      "execution_count": 87,
      "outputs": [
        {
          "output_type": "stream",
          "text": [
            "[[ 2  3  4]\n",
            " [ 5  6  7]\n",
            " [ 8  9 10]]\n"
          ],
          "name": "stdout"
        }
      ]
    },
    {
      "cell_type": "markdown",
      "metadata": {
        "id": "ZRPX4LW_NsdP",
        "colab_type": "text"
      },
      "source": [
        "~~~\n",
        "NumPy 73: Write a Python program to create an array of (3, 4) shape,\n",
        "multiply every element value by 3 and display the new array.\n",
        "~~~\n"
      ]
    },
    {
      "cell_type": "code",
      "metadata": {
        "id": "IL26-dohNzF6",
        "colab_type": "code",
        "colab": {
          "base_uri": "https://localhost:8080/",
          "height": 67
        },
        "outputId": "6caaeca9-8b26-49f0-cf98-e2ffe10be0ac"
      },
      "source": [
        "import numpy as np\n",
        "array=np.ones((3,4),np.int16)\n",
        "print(array*3)"
      ],
      "execution_count": 93,
      "outputs": [
        {
          "output_type": "stream",
          "text": [
            "[[3 3 3 3]\n",
            " [3 3 3 3]\n",
            " [3 3 3 3]]\n"
          ],
          "name": "stdout"
        }
      ]
    },
    {
      "cell_type": "markdown",
      "metadata": {
        "id": "3DqvShPjOueq",
        "colab_type": "text"
      },
      "source": [
        "```\n",
        "Pandas DataFrame 4 and 5: Write a Python program to get the first 3 rows\n",
        "and the 'name' and 'score' columns from the following DataFrame.\n",
        "```"
      ]
    },
    {
      "cell_type": "code",
      "metadata": {
        "id": "vUHKnq4KO1rJ",
        "colab_type": "code",
        "colab": {
          "base_uri": "https://localhost:8080/",
          "height": 235
        },
        "outputId": "b9885188-f14f-44d2-8a2f-0ad697fe95f9"
      },
      "source": [
        "import pandas as pd\n",
        "\n",
        "exam_data = {'name': ['Anastasia', 'Dima', 'Katherine','James', 'Emily', 'Michael', 'Matthew', 'Laura', 'Kevin','Jonas'],\n",
        "'score': [12.5, 9, 16.5, np.nan, 9, 20, 14.5, np.nan, 8,19],\n",
        "'attempts': [1, 3, 2, 3, 2, 3, 1, 1, 2, 1],\n",
        "'qualify': ['yes', 'no', 'yes', 'no', 'no', 'yes', 'yes','no', 'no', 'yes']}\n",
        "labels = ['a', 'b', 'c', 'd', 'e', 'f', 'g', 'h', 'i', 'j']\n",
        "df=pd.DataFrame(exam_data)\n",
        "print(df.ix[0:3,['name','score']])"
      ],
      "execution_count": 110,
      "outputs": [
        {
          "output_type": "stream",
          "text": [
            "        name  score\n",
            "0  Anastasia   12.5\n",
            "1       Dima    9.0\n",
            "2  Katherine   16.5\n",
            "3      James    NaN\n"
          ],
          "name": "stdout"
        },
        {
          "output_type": "stream",
          "text": [
            "/usr/local/lib/python3.6/dist-packages/ipykernel_launcher.py:9: DeprecationWarning: \n",
            ".ix is deprecated. Please use\n",
            ".loc for label based indexing or\n",
            ".iloc for positional indexing\n",
            "\n",
            "See the documentation here:\n",
            "http://pandas.pydata.org/pandas-docs/stable/indexing.html#ix-indexer-is-deprecated\n",
            "  if __name__ == '__main__':\n"
          ],
          "name": "stderr"
        }
      ]
    }
  ]
}